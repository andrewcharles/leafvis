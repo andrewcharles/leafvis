{
 "metadata": {
  "name": "leafvis"
 },
 "nbformat": 3,
 "nbformat_minor": 0,
 "worksheets": [
  {
   "cells": [
    {
     "cell_type": "markdown",
     "metadata": {},
     "source": [
      "Leaflet map visualization\n",
      "=========================\n",
      "\n",
      "A map visualization tool for gridded data embedded within the ipython notebook - built using numpy, pyresample, matplotlib and flask. This was inspired by recent work that I noticed in pydap, which provides a WMS handler.\n",
      "\n",
      "The leaflet map depends on an external (customized) web map tile server, constructed of a few parts:\n",
      "    \n",
      "    1) Grid resampler:\n",
      "        \n",
      "       A request from the map visualization comes through to the server defining a bounding box over which to resample the gridded data.\n",
      "\n",
      "       This is achieved in an adhoc way (probably not correct) using pyresample: http://code.google.com/p/pyresample/\n",
      "    \n",
      "    2) Resampled grid renderer:\n",
      "\n",
      "       The renderer uses matplotlib to draw tile layers as png images for each of the resampled areas (tiles).\n",
      "\n",
      "    3) Grid (and png image) datastore:\n",
      "    \n",
      "       For grids to be rendered the web server needs to have access to the numpy arrays of (lats, lons, values), which are available in\n",
      "       the ipython namespace - to get around this the grids serialized on the server as hdf5 files.\n",
      "\n",
      "       N.B. To speed things up a pyramid of image tiles (built over time) are also stored for each layer."
     ]
    },
    {
     "cell_type": "code",
     "collapsed": false,
     "input": [
      "from leafvis import view\n",
      "from leafvis.store import Layer\n",
      "from metex import data"
     ],
     "language": "python",
     "metadata": {},
     "outputs": [],
     "prompt_number": 2
    },
    {
     "cell_type": "markdown",
     "metadata": {},
     "source": [
      "Each visualization is a combination of coordinates and values, so for a regular grid, we need the corresponding regular grid of lat/lons."
     ]
    },
    {
     "cell_type": "code",
     "collapsed": false,
     "input": [
      "lats, lons = data.coords()"
     ],
     "language": "python",
     "metadata": {},
     "outputs": [],
     "prompt_number": 3
    },
    {
     "cell_type": "code",
     "collapsed": false,
     "input": [
      "topo = Layer('topo', lats, lons, data.topo())"
     ],
     "language": "python",
     "metadata": {},
     "outputs": [],
     "prompt_number": 4
    },
    {
     "cell_type": "markdown",
     "metadata": {},
     "source": [
      "A leaflet visualization is a html page that is embedded into the notebook, although the page is generated dynamically to show the layer of interest.\n",
      "\n",
      "*Under the hood the Layer information is stored on the server as a hdf5 file (fortunately the same server as the ipython notebook).*"
     ]
    },
    {
     "cell_type": "code",
     "collapsed": false,
     "input": [
      "view.leaflet(topo, cmap='elevation', vmin=0, vmax=1200, host='tardis.bom.gov.au')"
     ],
     "language": "python",
     "metadata": {},
     "outputs": [
      {
       "html": [
        "<iframe  src=http://gfedev20.bom.gov.au:5000/map/topo/elevation/0/1200 width=850 height=650</iframe>"
       ],
       "output_type": "pyout",
       "prompt_number": 5,
       "text": [
        "<IPython.core.display.HTML at 0x2f4ebd0>"
       ]
      }
     ],
     "prompt_number": 5
    },
    {
     "cell_type": "code",
     "collapsed": false,
     "input": [],
     "language": "python",
     "metadata": {},
     "outputs": [],
     "prompt_number": 5
    }
   ],
   "metadata": {}
  }
 ]
}