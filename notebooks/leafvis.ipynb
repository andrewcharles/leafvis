{
 "metadata": {
  "name": "leafvis"
 },
 "nbformat": 3,
 "nbformat_minor": 0,
 "worksheets": [
  {
   "cells": [
    {
     "cell_type": "markdown",
     "metadata": {},
     "source": [
      "Leaflet map visualization\n",
      "=========================\n",
      "\n",
      "*Leafvis* a map visualization for gridded data embedded within the ipython notebook - built using numpy, pyresample, pytables, matplotlib and flask. \n",
      "\n",
      "Technical details:\n",
      "------------------\n",
      "\n",
      "The leaflet map depends on an external (customized) web map tile server, constructed of a few parts:\n",
      "    \n",
      " 1.  Grid resampler:\n",
      "        \n",
      "        A request from the map visualization comes through to the server defining a bounding box over which to resample the gridded data.\n",
      "        \n",
      "        This is achieved in an adhoc way (probably not correct) using pyresample: http://code.google.com/p/pyresample/\n",
      "    \n",
      " 2.   Resampled grid renderer:\n",
      "        \n",
      "        The renderer uses matplotlib to draw tile layers as png images for each of the resampled areas (tiles).\n",
      "\n",
      " 3.   Grid (and png image) datastore:\n",
      "\n",
      "        For grids to be rendered the web server needs to have access to the arrays of lats, lons, and values which are available in\n",
      "        the ipython namespace - to get around this the grids serialized on the server as hdf5 files.\n",
      "\n",
      "        (To speed things up a pyramid of image tiles (built over time) are also stored for each layer.)"
     ]
    },
    {
     "cell_type": "code",
     "collapsed": true,
     "input": [
      "from leafvis import view\n",
      "from leafvis.store import Layer\n",
      "from metex import data"
     ],
     "language": "python",
     "metadata": {},
     "outputs": []
    },
    {
     "cell_type": "markdown",
     "metadata": {},
     "source": [
      "Each visualization is a combination of coordinates and values, so for a regular grid, we need the corresponding regular grid of lat/lons."
     ]
    },
    {
     "cell_type": "code",
     "collapsed": false,
     "input": [
      "lats, lons = data.coords()"
     ],
     "language": "python",
     "metadata": {},
     "outputs": []
    },
    {
     "cell_type": "code",
     "collapsed": false,
     "input": [
      "topo = Layer('topo', lats, lons, data.topo())"
     ],
     "language": "python",
     "metadata": {},
     "outputs": []
    },
    {
     "cell_type": "markdown",
     "metadata": {},
     "source": [
      "A leaflet visualization is a html page that is embedded into the notebook, although the page is generated dynamically to show the layer of interest."
     ]
    },
    {
     "cell_type": "code",
     "collapsed": false,
     "input": [
      "view.leaflet(topo, cmap='elevation', vmin=0, vmax=1200, host='tardis.bom.gov.au')"
     ],
     "language": "python",
     "metadata": {},
     "outputs": []
    },
    {
     "cell_type": "code",
     "collapsed": false,
     "input": [],
     "language": "python",
     "metadata": {},
     "outputs": []
    }
   ],
   "metadata": {}
  }
 ]
}